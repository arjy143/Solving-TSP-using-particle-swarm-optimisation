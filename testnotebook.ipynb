{
 "cells": [
  {
   "cell_type": "code",
   "execution_count": 16,
   "id": "5fc2e588",
   "metadata": {},
   "outputs": [],
   "source": [
    "import requests\n",
    "import matplotlib.pyplot as plt\n",
    "import torch\n",
    "import matplotlib.animation as animation\n",
    "from IPython.display import display"
   ]
  },
  {
   "cell_type": "markdown",
   "id": "9532eabf",
   "metadata": {},
   "source": [
    "https://www.geeksforgeeks.org/particle-swarm-optimization-pso-an-overview/  \n",
    "https://github.com/mastqe/tsplib"
   ]
  },
  {
   "cell_type": "code",
   "execution_count": 17,
   "id": "b1fef8bc",
   "metadata": {},
   "outputs": [],
   "source": [
    "response = requests.get(\"https://raw.githubusercontent.com/mastqe/tsplib/refs/heads/master/att48.tsp\")\n",
    "#print(response.text)"
   ]
  },
  {
   "cell_type": "code",
   "execution_count": 18,
   "id": "fa066196",
   "metadata": {},
   "outputs": [
    {
     "name": "stdout",
     "output_type": "stream",
     "text": [
      "{1: (6734, 1453), 2: (2233, 10), 3: (5530, 1424), 4: (401, 841), 5: (3082, 1644), 6: (7608, 4458), 7: (7573, 3716), 8: (7265, 1268), 9: (6898, 1885), 10: (1112, 2049), 11: (5468, 2606), 12: (5989, 2873), 13: (4706, 2674), 14: (4612, 2035), 15: (6347, 2683), 16: (6107, 669), 17: (7611, 5184), 18: (7462, 3590), 19: (7732, 4723), 20: (5900, 3561), 21: (4483, 3369), 22: (6101, 1110), 23: (5199, 2182), 24: (1633, 2809), 25: (4307, 2322), 26: (675, 1006), 27: (7555, 4819), 28: (7541, 3981), 29: (3177, 756), 30: (7352, 4506), 31: (7545, 2801), 32: (3245, 3305), 33: (6426, 3173), 34: (4608, 1198), 35: (23, 2216), 36: (7248, 3779), 37: (7762, 4595), 38: (7392, 2244), 39: (3484, 2829), 40: (6271, 2135), 41: (4985, 140), 42: (1916, 1569), 43: (7280, 4899), 44: (7509, 3239), 45: (10, 2676), 46: (6807, 2993), 47: (5185, 3258), 48: (3023, 1942)}\n"
     ]
    }
   ],
   "source": [
    "#make a proper class for parsing, so all of the other info is not lost\n",
    "\n",
    "class Coordinate:\n",
    "    def __init__(self, nodeId, x, y):\n",
    "        self.nodeId = nodeId\n",
    "        self.x = x\n",
    "        self.y = y\n",
    "\n",
    "unprocessedData = response.text.split(\"\\n\")\n",
    "nodeCoordinates = []\n",
    "nodeCoordinatesDictionary = {}\n",
    "isCoordinateSection = False\n",
    "for line in unprocessedData:\n",
    "    line = line.strip()\n",
    "    if \"EOF\" in line:\n",
    "        break\n",
    "    if isCoordinateSection:\n",
    "        line = line.strip()\n",
    "        stringData = line.split(\" \")\n",
    "        #newCoord = Coordinate(int(stringData[0]), int(stringData[1]), int(stringData[2]))\n",
    "        nodeId = int(stringData[0])\n",
    "        x = int(stringData[1])\n",
    "        y = int(stringData[2])\n",
    "        newCoord = (nodeId, x, y)\n",
    "        nodeCoordinatesDictionary[nodeId] = (x, y)\n",
    "        nodeCoordinates.append(newCoord)\n",
    "    if \"NODE_COORD_SECTION\" in line:\n",
    "        isCoordinateSection = True\n",
    "        \n",
    "#print(nodeCoordinates)\n",
    "print(nodeCoordinatesDictionary)\n",
    "        "
   ]
  },
  {
   "cell_type": "code",
   "execution_count": 22,
   "id": "d78b6781",
   "metadata": {},
   "outputs": [
    {
     "data": {
      "image/png": "[encoded data removed]",
      "text/plain": [
       "<Figure size 1000x600 with 1 Axes>"
      ]
     },
     "metadata": {},
     "output_type": "display_data"
    }
   ],
   "source": [
    "def plot_coordinates(nodeCoordinates):\n",
    "    #x, y = [value[0], value[1] for key, value in nodeCoordinates.items()]\n",
    "    nodeIds = list(nodeCoordinates.keys())\n",
    "    xCoords = [coord[0] for coord in nodeCoordinates.values()]\n",
    "    yCoords = [coord[1] for coord in nodeCoordinates.values()]\n",
    "    # Plot the coordinates using matplotlib\n",
    "    plt.figure(figsize=(10, 6))\n",
    "    plt.scatter(xCoords, yCoords, c='blue', marker='o', label='Nodes')\n",
    "    plt.xlabel('X Coordinates')\n",
    "    plt.ylabel('Y Coordinates')\n",
    "    plt.title('Node coordinates')\n",
    "    #plt.grid(True)\n",
    "    plt.show()\n",
    "\n",
    "# Example usage:\n",
    "\n",
    "# Plot the coordinates\n",
    "plot_coordinates(nodeCoordinatesDictionary)"
   ]
  },
  {
   "cell_type": "code",
   "execution_count": 23,
   "id": "25ab6eca",
   "metadata": {},
   "outputs": [],
   "source": [
    "class Particle:\n",
    "    def __init__(self, nodeCount):\n",
    "        self.position = torch.randperm(nodeCount)\n",
    "        self.fitnessValue = 0\n",
    "        self.localBestFitnessPosition = self.position.clone() \n",
    "        self.localBestFitnessValue = 0 \n",
    "        self.velocity = torch.zeros(nodeCount)\n",
    "        self.bestCost = float(\"inf\")\n",
    "    \n",
    "    def evaluate(self):\n",
    "        pass"
   ]
  },
  {
   "cell_type": "code",
   "execution_count": 24,
   "id": "a8b629c9",
   "metadata": {},
   "outputs": [],
   "source": [
    "class ParticleSwarmOptimiser:\n",
    "    def __init__(self, nodeCount, particleCount, inertia, particleCognition, socialInfluence, minx, maxx, r1=1, r2=1):\n",
    "        self.particleSwarm = [Particle(nodeCount) for _ in particleCount]\n",
    "        self.w = inertia\n",
    "        self.c1 = particleCognition\n",
    "        self.c2 = socialInfluence\n",
    "        self.r1 = r1\n",
    "        self.r2 = r2\n",
    "        self.minx = minx\n",
    "        self.maxx = maxx\n",
    "        self.globalBestFitnessPosition = 0\n",
    "        self.globalBestFitnessValue = 0\n",
    "        self.particleCount = particleCount\n",
    "    \n",
    "    def getBestSolution(self):\n",
    "        return self.globalBestFitnessPosition, self.globalBestFitnessValue\n",
    "    \n",
    "    def optimise(self, maxIterations):\n",
    "        for iteration in range(maxIterations):\n",
    "            for i in range(self.particleCount):\n",
    "                self.particleSwarm[i].velocity = (inertia*self.particleSwarm[i].velocity +\n",
    "                                                 r1*c1*(self.particleSwarm[i].bestPos - self.particleSwarm[i].position) +\n",
    "                                                 r2*c2*( self.globalBestFitnessPosition - self.particleSwarm[i].position))\n",
    "                self.particleSwarm[i].position += self.particleSwarm[i].velocity\n",
    "                if self.particleSwarm[i].position < minx:\n",
    "                    self.particleSwarm[i].position = minx\n",
    "                elif self.particleSwarm[i].position > maxx:\n",
    "                    self.particleSwarm[i].position = maxx\n",
    "                    \n",
    "                if self.particleSwarm[i].fitnessValue < self.particleSwarm[i].localBestFitnessValue:\n",
    "                        self.particleSwarm[i].localBestFitnessValue = self.particleSwarm[i].fitnessValue\n",
    "                        self.particleSwarm[i].localBestFitnessPosition = self.particleSwarm[i].position\n",
    "\n",
    "                if self.particleSwarm[i].fitnessValue < self.globalBestFitnessValue:\n",
    "                    self.globalBestFitnessValue = self.particleSwarm[i].fitnessValue\n",
    "                    self.globalBestFitnessPosition = self.particleSwarm[i].position\n",
    "                        \n",
    "    def refine():\n",
    "        #take in new hyperparameters without necessarily modifying particle swarm\n",
    "        pass\n",
    "        "
   ]
  },
  {
   "cell_type": "markdown",
   "id": "c565411e",
   "metadata": {},
   "source": [
    "clean up code\n",
    "\n",
    "modify the optimiser to work\n",
    "\n",
    "tune hyperparameters\n",
    "\n",
    "visualise each stage\n",
    "\n",
    "use torch features throughout code\n",
    "\n",
    "use more problem types, or do a comparison with a different type of optimisation e.g. ant colony"
   ]
  },
  {
   "cell_type": "code",
   "execution_count": null,
   "id": "53da5e23",
   "metadata": {},
   "outputs": [],
   "source": []
  }
 ],
 "metadata": {
  "kernelspec": {
   "display_name": "Python 3 (ipykernel)",
   "language": "python",
   "name": "python3"
  },
  "language_info": {
   "codemirror_mode": {
    "name": "ipython",
    "version": 3
   },
   "file_extension": ".py",
   "mimetype": "text/x-python",
   "name": "python",
   "nbconvert_exporter": "python",
   "pygments_lexer": "ipython3",
   "version": "3.11.3"
  }
 },
 "nbformat": 4,
 "nbformat_minor": 5
}
